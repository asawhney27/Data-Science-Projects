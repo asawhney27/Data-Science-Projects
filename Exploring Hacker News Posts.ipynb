{
 "cells": [
  {
   "cell_type": "markdown",
   "metadata": {},
   "source": [
    "# Hacker News Project"
   ]
  },
  {
   "cell_type": "markdown",
   "metadata": {},
   "source": [
    "**Exercise Description**: This was a quick data analysis on the types of user posts on the Hacker News website. The goal here was to understand the volume of *Ask* and *Show* posts as well as to compare the difference in engagement between the two based on the number of comments they received. In order to get more practice manipulating list of lists in Python, this exercise was done without using Numpy and Pandas. The data set being explored here is available on Kaggle. "
   ]
  },
  {
   "cell_type": "code",
   "execution_count": 20,
   "metadata": {},
   "outputs": [],
   "source": [
    "from csv import reader\n",
    "import datetime as dt\n",
    "\n",
    "pd.options.display.max_rows = 999"
   ]
  },
  {
   "cell_type": "markdown",
   "metadata": {},
   "source": [
    "Reading the Hacker News csv in as a list of lists below:"
   ]
  },
  {
   "cell_type": "code",
   "execution_count": 2,
   "metadata": {},
   "outputs": [],
   "source": [
    "opened = open(\"hacker_news.csv\")\n",
    "read = reader(opened)\n",
    "hn = list(read)"
   ]
  },
  {
   "cell_type": "code",
   "execution_count": 6,
   "metadata": {},
   "outputs": [],
   "source": [
    "headers = hn[0]\n",
    "hn = hn[1:]"
   ]
  },
  {
   "cell_type": "code",
   "execution_count": 7,
   "metadata": {},
   "outputs": [
    {
     "data": {
      "text/plain": [
       "['id', 'title', 'url', 'num_points', 'num_comments', 'author', 'created_at']"
      ]
     },
     "execution_count": 7,
     "metadata": {},
     "output_type": "execute_result"
    }
   ],
   "source": [
    "headers"
   ]
  },
  {
   "cell_type": "markdown",
   "metadata": {},
   "source": [
    "Separating user posts by **Ask**, **Show**, and **Other**"
   ]
  },
  {
   "cell_type": "code",
   "execution_count": 11,
   "metadata": {},
   "outputs": [
    {
     "name": "stdout",
     "output_type": "stream",
     "text": [
      "9139 Ask Posts\n",
      "10158 Show Posts\n",
      "273822 Other Posts\n"
     ]
    }
   ],
   "source": [
    "ask_posts = []\n",
    "show_posts = []\n",
    "other_posts = []\n",
    "\n",
    "for i in hn:\n",
    "    if i[1].lower().startswith('ask hn'):\n",
    "        ask_posts.append(i)\n",
    "    elif i[1].lower().startswith('show hn'):\n",
    "        show_posts.append(i)\n",
    "    else:\n",
    "        other_posts.append(i)\n",
    "\n",
    "print(str(len(ask_posts)) + ' Ask Posts')\n",
    "print(str(len(show_posts)) + ' Show Posts')\n",
    "print(str(len(other_posts)) + ' Other Posts')"
   ]
  },
  {
   "cell_type": "markdown",
   "metadata": {},
   "source": [
    "Determing which of the two post types receive more comments on average:"
   ]
  },
  {
   "cell_type": "code",
   "execution_count": 19,
   "metadata": {},
   "outputs": [
    {
     "name": "stdout",
     "output_type": "stream",
     "text": [
      "Ask Comments Avg 10.39\n",
      "Show Comments Avg 4.89\n"
     ]
    }
   ],
   "source": [
    "total_ask_comments = 0\n",
    "total_show_comments = 0\n",
    "\n",
    "for i in ask_posts:\n",
    "    total_ask_comments += int(i[4])\n",
    "\n",
    "for i in show_posts:\n",
    "    total_show_comments += int(i[4])\n",
    "\n",
    "avg_ask_comments = total_ask_comments / len(ask_posts)\n",
    "avg_show_comments = total_show_comments / len(show_posts)\n",
    "\n",
    "print('Ask Comments Avg ' + str(round(avg_ask_comments,2)))\n",
    "print('Show Comments Avg ' + str(round(avg_show_comments,2)))"
   ]
  },
  {
   "cell_type": "markdown",
   "metadata": {},
   "source": [
    "Ask posts received more comments on average than Show posts on Hacker News."
   ]
  },
  {
   "cell_type": "markdown",
   "metadata": {},
   "source": [
    "Exploring whether Ask posts received more comments at certain times of the day as compared to others:"
   ]
  },
  {
   "cell_type": "code",
   "execution_count": 24,
   "metadata": {},
   "outputs": [
    {
     "name": "stdout",
     "output_type": "stream",
     "text": [
      "['id', 'title', 'url', 'num_points', 'num_comments', 'author', 'created_at']\n",
      "['12578908', 'Ask HN: What TLD do you use for local development?', '', '4', '7', 'Sevrene', '9/26/2016 2:53']\n"
     ]
    }
   ],
   "source": [
    "print(headers)\n",
    "print(ask_posts[0])"
   ]
  },
  {
   "cell_type": "code",
   "execution_count": 46,
   "metadata": {},
   "outputs": [],
   "source": [
    "result_list = []\n",
    "\n",
    "for i in ask_posts:\n",
    "    result_list.append([i[6],int(i[4])])\n",
    "    \n",
    "counts_by_hour = {}\n",
    "comments_by_hour = {}\n",
    "\n",
    "for i in result_list:\n",
    "    hour = dt.datetime.strptime(i[0],'%m/%d/%Y %H:%M').hour\n",
    "    if hour in counts_by_hour:\n",
    "        counts_by_hour[hour] += 1\n",
    "        comments_by_hour[hour] += i[1]\n",
    "    else:\n",
    "        counts_by_hour[hour] = 1\n",
    "        comments_by_hour[hour] = i[1]"
   ]
  },
  {
   "cell_type": "code",
   "execution_count": 61,
   "metadata": {},
   "outputs": [],
   "source": [
    "avg_comments_hr = []\n",
    "\n",
    "for i in comments_by_hour:\n",
    "    avg = round(comments_by_hour[i]/counts_by_hour[i],2)\n",
    "    avg_comments_hr.append ([avg, i])\n",
    "\n",
    "avg_comments_hr = sorted(avg_comments_hr,reverse=True)"
   ]
  },
  {
   "cell_type": "code",
   "execution_count": 62,
   "metadata": {},
   "outputs": [
    {
     "data": {
      "text/plain": [
       "[[28.68, 15],\n",
       " [16.32, 13],\n",
       " [12.38, 12],\n",
       " [11.14, 2],\n",
       " [10.68, 10],\n",
       " [9.71, 4],\n",
       " [9.69, 14],\n",
       " [9.45, 17],\n",
       " [9.19, 8],\n",
       " [8.96, 11],\n",
       " [8.8, 22],\n",
       " [8.79, 5],\n",
       " [8.75, 20],\n",
       " [8.69, 21],\n",
       " [7.95, 3],\n",
       " [7.94, 18],\n",
       " [7.71, 16],\n",
       " [7.56, 0],\n",
       " [7.41, 1],\n",
       " [7.16, 19],\n",
       " [7.01, 7],\n",
       " [6.78, 6],\n",
       " [6.7, 23],\n",
       " [6.65, 9]]"
      ]
     },
     "execution_count": 62,
     "metadata": {},
     "output_type": "execute_result"
    }
   ],
   "source": [
    "avg_comments_hr"
   ]
  },
  {
   "cell_type": "code",
   "execution_count": 66,
   "metadata": {},
   "outputs": [
    {
     "name": "stdout",
     "output_type": "stream",
     "text": [
      "Top 5 Hours for Ask Posts Comments\n",
      "15:00: 28.68 average comments per post.\n",
      "13:00: 16.32 average comments per post.\n",
      "12:00: 12.38 average comments per post.\n",
      "02:00: 11.14 average comments per post.\n",
      "10:00: 10.68 average comments per post.\n"
     ]
    }
   ],
   "source": [
    "print(\"Top 5 Hours for Ask Posts Comments\")\n",
    "\n",
    "for row in avg_comments_hr[:5]:\n",
    "        template = \"{}: {} average comments per post.\"\n",
    "        hour = str(row[1])\n",
    "        hour = dt.datetime.strptime(hour,'%H').strftime(\"%H:%M\")\n",
    "        output = template.format(hour,row[0])\n",
    "        print(output)"
   ]
  },
  {
   "cell_type": "markdown",
   "metadata": {},
   "source": [
    "If you are thinking about sharing an Ask post on Hacker News, **3pm** is probably a good time to do it if you are looking to maximize engagement through comments."
   ]
  },
  {
   "cell_type": "code",
   "execution_count": null,
   "metadata": {},
   "outputs": [],
   "source": []
  }
 ],
 "metadata": {
  "kernelspec": {
   "display_name": "Python 3",
   "language": "python",
   "name": "python3"
  },
  "language_info": {
   "codemirror_mode": {
    "name": "ipython",
    "version": 3
   },
   "file_extension": ".py",
   "mimetype": "text/x-python",
   "name": "python",
   "nbconvert_exporter": "python",
   "pygments_lexer": "ipython3",
   "version": "3.8.3"
  }
 },
 "nbformat": 4,
 "nbformat_minor": 4
}
